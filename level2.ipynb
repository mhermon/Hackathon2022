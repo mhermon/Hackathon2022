{
 "cells": [
  {
   "cell_type": "code",
   "execution_count": 5,
   "metadata": {},
   "outputs": [],
   "source": [
    "import requests\n",
    "import json\n",
    "import pandas as pd\n",
    "import numpy as np\n",
    "import datetime"
   ]
  },
  {
   "cell_type": "code",
   "execution_count": 6,
   "metadata": {},
   "outputs": [],
   "source": [
    "def prettify(obj):\n",
    "    return json.dumps(obj, sort_keys=True, indent=2)"
   ]
  },
  {
   "cell_type": "code",
   "execution_count": 7,
   "metadata": {},
   "outputs": [],
   "source": [
    "username = input('Enter username: ')\n",
    "password = input('Enter password: ')\n",
    "headers = {'Content-Type': 'application/json'}"
   ]
  },
  {
   "cell_type": "code",
   "execution_count": 8,
   "metadata": {},
   "outputs": [],
   "source": [
    "with open (\"api_key.json\") as f:\n",
    "    api_key = json.load(f)[\"mitchell\"]"
   ]
  },
  {
   "cell_type": "code",
   "execution_count": 9,
   "metadata": {},
   "outputs": [],
   "source": [
    "def get_data(name, start_time, end_time, interval):\n",
    "    base_url = 'https://itsnt2259.iowa.uiowa.edu/piwebapi/search/query?q=name:'\n",
    "    url = base_url + name\n",
    "    query = requests.get(url, auth=(username, password), headers=headers).json()\n",
    "    self_url = query['Items'][0]['Links']['Self']\n",
    "    point = requests.get(self_url, auth=(username, password), headers=headers).json()\n",
    "    data_url = point['Links']['InterpolatedData']\n",
    "    data_url = data_url + '/?startTime=-' + start_time + '&endTime=-' + end_time + '&interval=' + interval\n",
    "    data = requests.get(data_url, auth=(username, password), headers=headers).json()\n",
    "    return data"
   ]
  },
  {
   "cell_type": "code",
   "execution_count": 10,
   "metadata": {},
   "outputs": [],
   "source": [
    "# EXAMPLE USAGE OF get_data()\n",
    "data = get_data('PP_Electric_Gen', '2w', '1w', '1d')"
   ]
  },
  {
   "cell_type": "code",
   "execution_count": 11,
   "metadata": {},
   "outputs": [],
   "source": [
    "# Main Natural Gas\n",
    "# Names\n",
    "main_ng_names = ['PP_TB1_2_TB1_GAS_FLOW', 'HBLR_GAS_FLOW', 'PP_B7_Gas_Flow_Adj', 'PP_B8_Gas_Flow_Adj', 'PP_B10_FLT_235_FT', 'PP_BLR12_FT_006_KSCFH',\n",
    "                 'PP_GG1_FUEL_FLOW', 'PP_GG2_FUEL_FLOW', 'PP_GG3_FUEL_FLOW', 'PP_GG4_FUEL_FLOW', 'PP_AF-XI-8220A']\n",
    "\n",
    "# Main Purch El\n",
    "main_purch_el_names = ['PP_Electric_Purch']\n",
    "\n",
    "# Main Gen El\n",
    "main_gen_el_names = ['PP_Electric_Gen']\n",
    "\n",
    "# Blr 10 Pellets\n",
    "blr_10_pellets_names = ['PP_CHS_B10WeighBelt_MvgAvg']\n",
    "\n",
    "# Blr 11 Coal + Pellets\n",
    "blr_11_coal_pellets_names = ['PP_SF-WIT-6044A']\n",
    "\n",
    "# Blr 11 Oat Hulls\n",
    "blr_11_oat_hulls_names = ['PP_BIO_Weight']\n",
    "\n",
    "ALL_DATA = {'Main Natural Gas': main_ng_names, 'Main Purch El': main_purch_el_names, 'Main Gen El': main_gen_el_names,\n",
    "            'Blr 10 Pellets': blr_10_pellets_names, 'Blr 11 Coal + Pellets': blr_11_coal_pellets_names, 'Blr 11 Oat Hulls': blr_11_oat_hulls_names}\n",
    "\n",
    "# TODO Oakdale Nat Gas Est. using steam and NG Monthly BTU Factors\n",
    "# TODO Oakdale Purch El\n",
    "# TODO Oakdale Gen El"
   ]
  },
  {
   "cell_type": "code",
   "execution_count": 12,
   "metadata": {},
   "outputs": [],
   "source": [
    "# Get the data\n",
    "interval = '1h'\n",
    "startTime = '1d'\n",
    "endTime = '1h'\n",
    "\n",
    "def get_df(names, startTime, endTime, interval):\n",
    "    df = pd.DataFrame()\n",
    "    for i, name in enumerate(names):\n",
    "        data = get_data(name, startTime, endTime, interval)\n",
    "        items = data['Items']\n",
    "        if i == 0:\n",
    "            times = [datetime.datetime.strptime(item['Timestamp'][:-2], '%Y-%m-%dT%H:%M:%S.%f') for item in items]\n",
    "            df['Time'] = times\n",
    "        vals = [max(item['Value'], 0) for item in items]\n",
    "        df[name] = pd.DataFrame(vals)\n",
    "    return df"
   ]
  },
  {
   "cell_type": "code",
   "execution_count": null,
   "metadata": {},
   "outputs": [],
   "source": [
    "main_ng_df = get_df(main_ng_names, startTime, endTime, interval)\n",
    "main_purch_el_df = get_df(main_purch_el_names, startTime, endTime, interval)\n",
    "main_gen_el_df = get_df(main_gen_el_names, startTime, endTime, interval)\n",
    "blr_10_pellets_df = get_df(blr_10_pellets_names, startTime, endTime, interval)\n",
    "blr_11_coal_pellets_df = get_df(blr_11_coal_pellets_names, startTime, endTime, interval)\n",
    "blr_11_oat_hulls_df = get_df(blr_11_oat_hulls_names, startTime, endTime, interval)"
   ]
  },
  {
   "cell_type": "code",
   "execution_count": 14,
   "metadata": {},
   "outputs": [],
   "source": [
    "# CO2 Emission Calculations\n",
    "HEAT_CONVERSION_COEFFS = { 'natural_gas': 1.026, 'pellets': 20.89375, 'oat_hulls': 8.25, 'coal': 24.93 }\n",
    "CO2_CONVERSION_COEFFS = {  'natural_gas': 54.16, 'pellets': 136.025, 'oat_hulls': 154.37, 'coal': 105.88}\n",
    "PURCH_CO2_COEFF = 611.169"
   ]
  },
  {
   "cell_type": "code",
   "execution_count": 15,
   "metadata": {},
   "outputs": [
    {
     "name": "stdout",
     "output_type": "stream",
     "text": [
      "Natural Gas 0     177.454505\n",
      "1    1586.324767\n",
      "2    2125.334126\n",
      "3    2127.105293\n",
      "4    1868.117882\n",
      "Name: CO2, dtype: float64\n"
     ]
    }
   ],
   "source": [
    "# add columns 1,2,3,4,6,11 of main_ng_df to main_ng_df['Sum']\n",
    "main_ng_df['Sum'] = main_ng_df.iloc[:, 1:5].sum(axis=1) + main_ng_df.iloc[:, 6:12].sum(axis=1)\n",
    "# add columns 5,7,8,9,10 of main_ng_df to main_ng_df['CO2']\n",
    "main_ng_df['Sum'] += (main_ng_df.iloc[:, 5:6].sum(axis=1) + main_ng_df.iloc[:, 7:11].sum(axis=1))/1000\n",
    "\n",
    "main_ng_df['CO2'] = main_ng_df['Sum'] * HEAT_CONVERSION_COEFFS['natural_gas'] * CO2_CONVERSION_COEFFS['natural_gas']\n",
    "print(\"Natural Gas\", main_ng_df['CO2'].head())"
   ]
  },
  {
   "cell_type": "code",
   "execution_count": 16,
   "metadata": {},
   "outputs": [
    {
     "name": "stdout",
     "output_type": "stream",
     "text": [
      "Oat Hulls 0    24892.443643\n",
      "1    23073.103469\n",
      "2    22832.063918\n",
      "3    23148.163851\n",
      "4    22796.173935\n",
      "Name: CO2, dtype: float64\n"
     ]
    }
   ],
   "source": [
    "# calculate CO2 emissions from blr_11_oat_hulls_df\n",
    "blr_11_oat_hulls_df['CO2'] = blr_11_oat_hulls_df['PP_BIO_Weight'] * HEAT_CONVERSION_COEFFS['oat_hulls'] * CO2_CONVERSION_COEFFS['oat_hulls']\n",
    "print(\"Oat Hulls\", blr_11_oat_hulls_df['CO2'].head())"
   ]
  },
  {
   "cell_type": "code",
   "execution_count": 17,
   "metadata": {},
   "outputs": [
    {
     "data": {
      "text/plain": [
       "0    21751.240795\n",
       "1    24130.313975\n",
       "2    22898.605294\n",
       "3    20672.279292\n",
       "4    20125.382153\n",
       "Name: CO2, dtype: float64"
      ]
     },
     "execution_count": 17,
     "metadata": {},
     "output_type": "execute_result"
    }
   ],
   "source": [
    "# calculate CO2 emissions from blr_10_pellets_df\n",
    "blr_10_pellets_df['CO2'] = blr_10_pellets_df['PP_CHS_B10WeighBelt_MvgAvg'] * HEAT_CONVERSION_COEFFS['pellets'] * CO2_CONVERSION_COEFFS['pellets']\n",
    "blr_10_pellets_df['CO2'].head()"
   ]
  },
  {
   "cell_type": "code",
   "execution_count": 18,
   "metadata": {},
   "outputs": [
    {
     "data": {
      "text/plain": [
       "0    22448.720194\n",
       "1    20331.445654\n",
       "2    19021.511369\n",
       "3    18230.103436\n",
       "4    18055.609124\n",
       "Name: CO2, dtype: float64"
      ]
     },
     "execution_count": 18,
     "metadata": {},
     "output_type": "execute_result"
    }
   ],
   "source": [
    "# calculate CO2 emissions from main_purch_el_df\n",
    "main_purch_el_df['CO2'] = main_purch_el_df['PP_Electric_Purch'] * PURCH_CO2_COEFF\n",
    "main_purch_el_df['CO2'].head()"
   ]
  },
  {
   "cell_type": "code",
   "execution_count": 20,
   "metadata": {},
   "outputs": [
    {
     "data": {
      "text/plain": [
       "0    725.759725\n",
       "1    703.245874\n",
       "2    693.847616\n",
       "3    703.961087\n",
       "4    700.117031\n",
       "Name: CO2, dtype: float64"
      ]
     },
     "execution_count": 20,
     "metadata": {},
     "output_type": "execute_result"
    }
   ],
   "source": [
    "CURRENT_PELLET_PERCENT = 0.195\n",
    "# calculate CO2 emissions from blr_11_coal_pellets_df\n",
    "blr_11_coal_pellets_df['CO2'] = (\n",
    "    blr_11_coal_pellets_df['PP_SF-WIT-6044A'] * CURRENT_PELLET_PERCENT * CO2_CONVERSION_COEFFS['pellets']\n",
    "    + blr_11_coal_pellets_df['PP_SF-WIT-6044A'] * (1 - CURRENT_PELLET_PERCENT) * CO2_CONVERSION_COEFFS['coal'])\n",
    "\n",
    "blr_11_coal_pellets_df['CO2'].head()"
   ]
  },
  {
   "cell_type": "code",
   "execution_count": null,
   "metadata": {},
   "outputs": [],
   "source": []
  }
 ],
 "metadata": {
  "kernelspec": {
   "display_name": "Python 3.9.12 ('.env': venv)",
   "language": "python",
   "name": "python3"
  },
  "language_info": {
   "codemirror_mode": {
    "name": "ipython",
    "version": 3
   },
   "file_extension": ".py",
   "mimetype": "text/x-python",
   "name": "python",
   "nbconvert_exporter": "python",
   "pygments_lexer": "ipython3",
   "version": "3.9.12"
  },
  "orig_nbformat": 4,
  "vscode": {
   "interpreter": {
    "hash": "014c5e72d19563d93a2a3932210fb1302af490bed78d9058d7d32679677f8801"
   }
  }
 },
 "nbformat": 4,
 "nbformat_minor": 2
}
