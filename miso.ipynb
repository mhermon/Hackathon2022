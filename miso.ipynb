{
 "cells": [
  {
   "cell_type": "code",
   "execution_count": 19,
   "metadata": {},
   "outputs": [],
   "source": [
    "import requests\n",
    "import json"
   ]
  },
  {
   "cell_type": "code",
   "execution_count": 20,
   "metadata": {},
   "outputs": [],
   "source": [
    "API_KEY = 'ayNClqmZuOOBeL6lFjA348UfsA0jpzazy8pjyXsQ'"
   ]
  },
  {
   "cell_type": "code",
   "execution_count": 21,
   "metadata": {},
   "outputs": [],
   "source": [
    "API_IDS = {'wind': 'EBA.MISO-ALL.NG.WND.H',\n",
    "        'solar': 'EBA.MISO-ALL.NG.SUN.H',\n",
    "        'hydro': 'EBA.MISO-ALL.NG.WAT.H',\n",
    "        'coal': 'EBA.MISO-ALL.NG.COL',\n",
    "        'natural_gas': 'EBA.MISO-ALL.NG.NG.H',\n",
    "        'nuclear': 'EBA.MISO-ALL.NG.NUC.H',\n",
    "        'other': 'EBA.MISO-ALL.NG.OTH.H'}"
   ]
  },
  {
   "cell_type": "code",
   "execution_count": 22,
   "metadata": {},
   "outputs": [],
   "source": [
    "def get_data(series_id, start, end):\n",
    "    url = f'https://api.eia.gov/series/?api_key={API_KEY}&series_id={series_id}&start={start}&end={end}'\n",
    "    response = requests.get(url)\n",
    "    return response.json()"
   ]
  },
  {
   "cell_type": "code",
   "execution_count": 23,
   "metadata": {},
   "outputs": [],
   "source": [
    "start = '20220816T14Z'\n",
    "end = '20220817T14Z'\n",
    "data = {}\n",
    "for name, series_id in API_IDS.items():\n",
    "    data[name] = get_data(series_id, start, end)\n",
    "    "
   ]
  },
  {
   "cell_type": "code",
   "execution_count": 59,
   "metadata": {},
   "outputs": [
    {
     "data": {
      "text/plain": [
       "[{'series_id': 'EBA.MISO-ALL.NG.WND.H',\n",
       "  'name': 'Net generation from wind for Midcontinent Independent System Operator, Inc. (MISO), hourly - UTC time',\n",
       "  'units': 'megawatthours',\n",
       "  'f': 'H',\n",
       "  'description': 'Timestamps follow the ISO8601 standard (https://en.wikipedia.org/wiki/ISO_8601). Hourly representations are provided in Universal Time.',\n",
       "  'start': '20180701T06Z',\n",
       "  'end': '20221015T05Z',\n",
       "  'updated': '2022-10-15T08:45:17-0400',\n",
       "  'data': [['20220817T14Z', 1207],\n",
       "   ['20220817T13Z', 1972],\n",
       "   ['20220817T12Z', 2424],\n",
       "   ['20220817T11Z', 2853],\n",
       "   ['20220817T10Z', 3272],\n",
       "   ['20220817T09Z', 3724],\n",
       "   ['20220817T08Z', 4018],\n",
       "   ['20220817T07Z', 4147],\n",
       "   ['20220817T06Z', 4343],\n",
       "   ['20220817T05Z', 4426],\n",
       "   ['20220817T04Z', 4079],\n",
       "   ['20220817T03Z', 3395],\n",
       "   ['20220817T02Z', 2571],\n",
       "   ['20220817T01Z', 1973],\n",
       "   ['20220817T00Z', 1934],\n",
       "   ['20220816T23Z', 2323],\n",
       "   ['20220816T22Z', 2612],\n",
       "   ['20220816T21Z', 2823],\n",
       "   ['20220816T20Z', 2798],\n",
       "   ['20220816T19Z', 2557],\n",
       "   ['20220816T18Z', 2076],\n",
       "   ['20220816T17Z', 1711],\n",
       "   ['20220816T16Z', 1668],\n",
       "   ['20220816T15Z', 1446],\n",
       "   ['20220816T14Z', 1787]]}]"
      ]
     },
     "execution_count": 59,
     "metadata": {},
     "output_type": "execute_result"
    }
   ],
   "source": [
    "\n",
    "data['wind']['series']"
   ]
  },
  {
   "cell_type": "code",
   "execution_count": null,
   "metadata": {},
   "outputs": [],
   "source": []
  }
 ],
 "metadata": {
  "kernelspec": {
   "display_name": "Python 3.8.9 ('.env')",
   "language": "python",
   "name": "python3"
  },
  "language_info": {
   "codemirror_mode": {
    "name": "ipython",
    "version": 3
   },
   "file_extension": ".py",
   "mimetype": "text/x-python",
   "name": "python",
   "nbconvert_exporter": "python",
   "pygments_lexer": "ipython3",
   "version": "3.8.9"
  },
  "orig_nbformat": 4,
  "vscode": {
   "interpreter": {
    "hash": "61c0be408dde825670b64ac54b905938aafd07ae6ec12d63cbc04fd53abc33aa"
   }
  }
 },
 "nbformat": 4,
 "nbformat_minor": 2
}
