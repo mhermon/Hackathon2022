{
 "cells": [
  {
   "cell_type": "code",
   "execution_count": 112,
   "metadata": {},
   "outputs": [],
   "source": [
    "import requests\n",
    "import json\n",
    "import pandas as pd\n",
    "import numpy as np\n",
    "import datetime"
   ]
  },
  {
   "cell_type": "code",
   "execution_count": 113,
   "metadata": {},
   "outputs": [],
   "source": [
    "def prettify(obj):\n",
    "    return json.dumps(obj, sort_keys=True, indent=2)"
   ]
  },
  {
   "cell_type": "code",
   "execution_count": 121,
   "metadata": {},
   "outputs": [],
   "source": [
    "username = input('Enter username: ')\n",
    "password = input('Enter password: ')\n",
    "headers = {'Content-Type': 'application/json'}                  ````````````"
   ]
  },
  {
   "cell_type": "code",
   "execution_count": 122,
   "metadata": {},
   "outputs": [],
   "source": [
    "with open (\"api_key.json\") as f:\n",
    "    api_key = json.load(f)[\"mitchell\"]"
   ]
  },
  {
   "cell_type": "code",
   "execution_count": 123,
   "metadata": {},
   "outputs": [],
   "source": [
    "def get_data(name, start_time, end_time, interval):\n",
    "    base_url = 'https://itsnt2259.iowa.uiowa.edu/piwebapi/search/query?q=name:'\n",
    "    url = base_url + name\n",
    "    query = requests.get(url, auth=(username, password), headers=headers).json()\n",
    "    self_url = query['Items'][0]['Links']['Self']\n",
    "    point = requests.get(self_url, auth=(username, password), headers=headers).json()\n",
    "    data_url = point['Links']['InterpolatedData']\n",
    "    data_url = data_url + '/?startTime=-' + start_time + '&endTime=-' + end_time + '&interval=' + interval\n",
    "    data = requests.get(data_url, auth=(username, password), headers=headers).json()\n",
    "    return data"
   ]
  },
  {
   "cell_type": "code",
   "execution_count": 124,
   "metadata": {},
   "outputs": [],
   "source": [
    "# EXAMPLE USAGE OF get_data()\n",
    "data = get_data('PP_Electric_Gen', '2w', '1w', '1d')"
   ]
  },
  {
   "cell_type": "code",
   "execution_count": 125,
   "metadata": {},
   "outputs": [],
   "source": [
    "# Main Natural Gas\n",
    "# Names\n",
    "main_ng_names = ['PP_TB1_2_TB1_GAS_FLOW', 'HBLR_GAS_FLOW', 'PP_B7_Gas_Flow_Adj', 'PP_B8_Gas_Flow_Adj', 'PP_B10_FLT_235_FT', 'PP_BLR12_FT_006_KSCFH',\n",
    "                 'PP_GG1_FUEL_FLOW', 'PP_GG2_FUEL_FLOW', 'PP_GG3_FUEL_FLOW', 'PP_GG4_FUEL_FLOW', 'PP_AF-XI-8220A']\n",
    "\n",
    "# Main Purch El\n",
    "main_purch_el_names = ['PP_Electric_Purch']\n",
    "\n",
    "# Main Gen El\n",
    "main_gen_el_names = ['PP_Electric_Gen']\n",
    "\n",
    "# Blr 10 Pellets\n",
    "blr_10_pellets_names = ['PP_CHS_B10WeighBelt_MvgAvg']\n",
    "\n",
    "# Blr 11 Coal + Pellets\n",
    "blr_11_coal_pellets_names = ['PP_SF-WIT-6044A']\n",
    "\n",
    "# Blr 11 Oat Hulls\n",
    "blr_11_oat_hulls_names = ['PP_BIO_Weight']\n",
    "\n",
    "ALL_DATA = {'Main Natural Gas': main_ng_names, 'Main Purch El': main_purch_el_names, 'Main Gen El': main_gen_el_names,\n",
    "            'Blr 10 Pellets': blr_10_pellets_names, 'Blr 11 Coal + Pellets': blr_11_coal_pellets_names, 'Blr 11 Oat Hulls': blr_11_oat_hulls_names}\n",
    "\n",
    "# TODO Oakdale Nat Gas Est. using steam and NG Monthly BTU Factors\n",
    "# TODO Oakdale Purch El\n",
    "# TODO Oakdale Gen El"
   ]
  },
  {
   "cell_type": "code",
   "execution_count": 126,
   "metadata": {},
   "outputs": [],
   "source": [
    "# Get the data\n",
    "interval = '1h'\n",
    "startTime = '1d'\n",
    "endTime = '1h'\n",
    "\n",
    "def get_df(names, startTime, endTime, interval):\n",
    "    df = pd.DataFrame()\n",
    "    for i, name in enumerate(names):\n",
    "        data = get_data(name, startTime, endTime, interval)\n",
    "        items = data['Items']\n",
    "        if i == 0:\n",
    "            times = [datetime.datetime.strptime(item['Timestamp'][:-2], '%Y-%m-%dT%H:%M:%S.%f') for item in items]\n",
    "            df['Time'] = times\n",
    "        vals = [max(item['Value'], 0) for item in items]\n",
    "        df[name] = pd.DataFrame(vals)\n",
    "    return df"
   ]
  },
  {
   "cell_type": "code",
   "execution_count": 127,
   "metadata": {},
   "outputs": [],
   "source": [
    "main_ng_df = get_df(main_ng_names, startTime, endTime, interval)\n",
    "main_purch_el_df = get_df(main_purch_el_names, startTime, endTime, interval)\n",
    "main_gen_el_df = get_df(main_gen_el_names, startTime, endTime, interval)\n",
    "blr_10_pellets_df = get_df(blr_10_pellets_names, startTime, endTime, interval)\n",
    "blr_11_coal_pellets_df = get_df(blr_11_coal_pellets_names, startTime, endTime, interval)\n",
    "blr_11_oat_hulls_df = get_df(blr_11_oat_hulls_names, startTime, endTime, interval)"
   ]
  },
  {
   "cell_type": "code",
   "execution_count": 128,
   "metadata": {},
   "outputs": [],
   "source": [
    "# CO2 Emission Calculations\n",
    "HEAT_CONVERSION_COEFFS = { 'natural_gas': 1.026, 'pellets': 20.89375, 'oat_hulls': 8.25, 'coal': 24.93 }\n",
    "CO2_CONVERSION_COEFFS = {  'natural_gas': 53.06, 'pellets': 31.875, 'oat_hulls': 118.17, 'coal': 93.28}\n",
    "PURCH_CO2_COEFF = 611.169"
   ]
  },
  {
   "cell_type": "code",
   "execution_count": 133,
   "metadata": {},
   "outputs": [
    {
     "name": "stdout",
     "output_type": "stream",
     "text": [
      "Natural Gas\n"
     ]
    },
    {
     "data": {
      "text/plain": [
       "0     172.153141\n",
       "1     174.017863\n",
       "2     171.161150\n",
       "3    1430.175403\n",
       "4    1964.453204\n",
       "Name: CO2, dtype: float64"
      ]
     },
     "execution_count": 133,
     "metadata": {},
     "output_type": "execute_result"
    }
   ],
   "source": [
    "# add columns 1,2,3,4,6,11 of main_ng_df to main_ng_df['Sum']\n",
    "main_ng_df['Sum'] = main_ng_df.iloc[:, 1:5].sum(axis=1) + main_ng_df.iloc[:, 6:12].sum(axis=1)\n",
    "# add columns 5,7,8,9,10 of main_ng_df to main_ng_df['CO2']\n",
    "main_ng_df['Sum'] += (main_ng_df.iloc[:, 5:6].sum(axis=1) + main_ng_df.iloc[:, 7:11].sum(axis=1))/1000\n",
    "\n",
    "main_ng_df['CO2'] = main_ng_df['Sum'] * HEAT_CONVERSION_COEFFS['natural_gas'] * CO2_CONVERSION_COEFFS['natural_gas']\n",
    "print(\"Natural Gas\", main_ng_df['CO2'].head())"
   ]
  },
  {
   "cell_type": "code",
   "execution_count": 132,
   "metadata": {},
   "outputs": [
    {
     "data": {
      "text/plain": [
       "0    18348.566640\n",
       "1    19114.864572\n",
       "2    19071.400007\n",
       "3    18210.942871\n",
       "4    17444.406087\n",
       "Name: CO2, dtype: float64"
      ]
     },
     "execution_count": 132,
     "metadata": {},
     "output_type": "execute_result"
    }
   ],
   "source": [
    "# calculate CO2 emissions from blr_11_oat_hulls_df\n",
    "blr_11_oat_hulls_df['CO2'] = blr_11_oat_hulls_df['PP_BIO_Weight'] * HEAT_CONVERSION_COEFFS['oat_hulls'] * CO2_CONVERSION_COEFFS['oat_hulls']\n",
    "print(\"Oat Hulls\", blr_11_oat_hulls_df['CO2'].head())"
   ]
  },
  {
   "cell_type": "code",
   "execution_count": 130,
   "metadata": {},
   "outputs": [
    {
     "data": {
      "text/plain": [
       "0    4996.925392\n",
       "1    5464.867406\n",
       "2    5034.511566\n",
       "3    5628.059842\n",
       "4    5625.951990\n",
       "Name: CO2, dtype: float64"
      ]
     },
     "execution_count": 130,
     "metadata": {},
     "output_type": "execute_result"
    }
   ],
   "source": [
    "# calculate CO2 emissions from blr_10_pellets_df\n",
    "blr_10_pellets_df['CO2'] = blr_10_pellets_df['PP_CHS_B10WeighBelt_MvgAvg'] * HEAT_CONVERSION_COEFFS['pellets'] * CO2_CONVERSION_COEFFS['pellets']\n",
    "blr_10_pellets_df['CO2'].head()"
   ]
  },
  {
   "cell_type": "code",
   "execution_count": 131,
   "metadata": {},
   "outputs": [
    {
     "data": {
      "text/plain": [
       "0    23192.768274\n",
       "1    22916.571346\n",
       "2    22380.052239\n",
       "3    20510.860426\n",
       "4    19262.193693\n",
       "Name: CO2, dtype: float64"
      ]
     },
     "execution_count": 131,
     "metadata": {},
     "output_type": "execute_result"
    }
   ],
   "source": [
    "# calculate CO2 emissions from main_purch_el_df\n",
    "main_purch_el_df['CO2'] = main_purch_el_df['PP_Electric_Purch'] * PURCH_CO2_COEFF\n",
    "main_purch_el_df['CO2'].head()"
   ]
  }
 ],
 "metadata": {
  "kernelspec": {
   "display_name": "Python 3.9.12 ('.env': venv)",
   "language": "python",
   "name": "python3"
  },
  "language_info": {
   "codemirror_mode": {
    "name": "ipython",
    "version": 3
   },
   "file_extension": ".py",
   "mimetype": "text/x-python",
   "name": "python",
   "nbconvert_exporter": "python",
   "pygments_lexer": "ipython3",
   "version": "3.9.12"
  },
  "orig_nbformat": 4,
  "vscode": {
   "interpreter": {
    "hash": "014c5e72d19563d93a2a3932210fb1302af490bed78d9058d7d32679677f8801"
   }
  }
 },
 "nbformat": 4,
 "nbformat_minor": 2
}
