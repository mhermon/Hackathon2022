{
 "cells": [
  {
   "cell_type": "code",
   "execution_count": 29,
   "metadata": {},
   "outputs": [],
   "source": [
    "import requests\n",
    "import json"
   ]
  },
  {
   "cell_type": "code",
   "execution_count": 30,
   "metadata": {},
   "outputs": [],
   "source": [
    "API_KEY = 'ayNClqmZuOOBeL6lFjA348UfsA0jpzazy8pjyXsQ'"
   ]
  },
  {
   "cell_type": "code",
   "execution_count": 50,
   "metadata": {},
   "outputs": [],
   "source": [
    "API_IDS = {'wind': 'EBA.MISO-ALL.NG.WND.H',\n",
    "        'solar': 'EBA.MISO-ALL.NG.SUN.H',\n",
    "        'hydro': 'EBA.MISO-ALL.NG.WAT.H',\n",
    "        'coal': 'EBA.MISO-ALL.NG.COL.H',\n",
    "        'natural_gas': 'EBA.MISO-ALL.NG.NG.H',\n",
    "        'nuclear': 'EBA.MISO-ALL.NG.NUC.H',\n",
    "        'other': 'EBA.MISO-ALL.NG.OTH.H'}"
   ]
  },
  {
   "cell_type": "code",
   "execution_count": 51,
   "metadata": {},
   "outputs": [],
   "source": [
    "def get_response(series_id, start, end):\n",
    "    url = f'https://api.eia.gov/series/?api_key={API_KEY}&series_id={series_id}&start={start}&end={end}'\n",
    "    response = requests.get(url)\n",
    "    return response.json()"
   ]
  },
  {
   "cell_type": "code",
   "execution_count": 52,
   "metadata": {},
   "outputs": [],
   "source": [
    "start = '20220816T14Z'\n",
    "end = '20220816T15Z'"
   ]
  },
  {
   "cell_type": "code",
   "execution_count": 53,
   "metadata": {},
   "outputs": [],
   "source": [
    "responses = {}\n",
    "for name, series_id in API_IDS.items():\n",
    "    responses[name] = get_response(series_id, start, end)\n",
    "    "
   ]
  },
  {
   "cell_type": "code",
   "execution_count": 54,
   "metadata": {},
   "outputs": [],
   "source": [
    "electricity_breakdown = {}\n",
    "for name, response in responses.items():\n",
    "    data = response['series'][0]['data']\n",
    "    times = [x[0] for x in data]\n",
    "    values = [x[1] for x in data]\n",
    "    recent_value = values[0]\n",
    "    electricity_breakdown[name] = recent_value\n",
    "    "
   ]
  },
  {
   "cell_type": "code",
   "execution_count": 55,
   "metadata": {},
   "outputs": [
    {
     "data": {
      "text/plain": [
       "{'wind': 1446,\n",
       " 'solar': 1645,\n",
       " 'hydro': 745,\n",
       " 'coal': 29938,\n",
       " 'natural_gas': 30213,\n",
       " 'nuclear': 11607,\n",
       " 'other': 732}"
      ]
     },
     "execution_count": 55,
     "metadata": {},
     "output_type": "execute_result"
    }
   ],
   "source": [
    "electricity_breakdown"
   ]
  },
  {
   "cell_type": "code",
   "execution_count": 38,
   "metadata": {},
   "outputs": [
    {
     "data": {
      "text/plain": [
       "('20220816T15Z', '20220816T14Z')"
      ]
     },
     "execution_count": 38,
     "metadata": {},
     "output_type": "execute_result"
    }
   ],
   "source": []
  },
  {
   "cell_type": "code",
   "execution_count": null,
   "metadata": {},
   "outputs": [],
   "source": [
    "now = datetime.now()\n",
    "# Convert to ISO 8601 format\n",
    "now = now.isoformat()\n",
    "print(now)"
   ]
  }
 ],
 "metadata": {
  "kernelspec": {
   "display_name": "Python 3.8.9 ('.env')",
   "language": "python",
   "name": "python3"
  },
  "language_info": {
   "codemirror_mode": {
    "name": "ipython",
    "version": 3
   },
   "file_extension": ".py",
   "mimetype": "text/x-python",
   "name": "python",
   "nbconvert_exporter": "python",
   "pygments_lexer": "ipython3",
   "version": "3.8.9"
  },
  "orig_nbformat": 4,
  "vscode": {
   "interpreter": {
    "hash": "61c0be408dde825670b64ac54b905938aafd07ae6ec12d63cbc04fd53abc33aa"
   }
  }
 },
 "nbformat": 4,
 "nbformat_minor": 2
}
